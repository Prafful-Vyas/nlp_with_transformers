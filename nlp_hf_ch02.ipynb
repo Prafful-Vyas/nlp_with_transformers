{
  "cells": [
    {
      "cell_type": "markdown",
      "metadata": {
        "id": "-YGXATqUcbW6"
      },
      "source": [
        "# Text Classification"
      ]
    },
    {
      "cell_type": "markdown",
      "metadata": {
        "id": "UIahno4tdSJG"
      },
      "source": [
        "Now imagine that you are a data scientist who needs to build a system that can automatically\n",
        "identify emotional states such as “anger” or “joy” that people express about\n",
        "your company’s product on Twitter. In this chapter, we’ll tackle this task using a variant\n",
        "of BERT called DistilBERT. The main advantage of this model is that it achieves\n",
        "comparable performance to BERT, while being significantly smaller and more efficient.\n",
        "This enables us to train a classifier in a few minutes."
      ]
    },
    {
      "cell_type": "markdown",
      "metadata": {
        "id": "K5N5OEgidjjs"
      },
      "source": [
        "![image.png](data:image/png;base64,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)"
      ]
    },
    {
      "cell_type": "markdown",
      "metadata": {
        "id": "0HBDLNF_dmZt"
      },
      "source": [
        "Figure 2-2. A typical pipeline for training transformer models with the Hugging Face Datasets, Tokenizers, and Transformers libraries"
      ]
    },
    {
      "cell_type": "markdown",
      "metadata": {
        "id": "3vLK-HxleILK"
      },
      "source": [
        "## Dataset"
      ]
    },
    {
      "cell_type": "markdown",
      "metadata": {
        "id": "sBDVMLTQePMf"
      },
      "source": [
        "dataset contains\n",
        "six basic emotions: anger, disgust, fear, joy, sadness, and surprise. Given a tweet,\n",
        "our task will be to train a model that can classify it into one of these emotions."
      ]
    },
    {
      "cell_type": "markdown",
      "metadata": {
        "id": "z1H7dVEeeWQZ"
      },
      "source": [
        "### A First Look at Hugging Face Datasets"
      ]
    },
    {
      "cell_type": "code",
      "execution_count": 1,
      "metadata": {},
      "outputs": [
        {
          "name": "stderr",
          "output_type": "stream",
          "text": [
            "/home/praffulvyas/nlp_with_transformers/venv/lib/python3.12/site-packages/tqdm/auto.py:21: TqdmWarning: IProgress not found. Please update jupyter and ipywidgets. See https://ipywidgets.readthedocs.io/en/stable/user_install.html\n",
            "  from .autonotebook import tqdm as notebook_tqdm\n"
          ]
        },
        {
          "name": "stdout",
          "output_type": "stream",
          "text": [
            "3.4.1\n"
          ]
        }
      ],
      "source": [
        "import datasets\n",
        "print(datasets.__version__)"
      ]
    },
    {
      "cell_type": "code",
      "execution_count": 3,
      "metadata": {
        "colab": {
          "base_uri": "https://localhost:8080/",
          "height": 384
        },
        "id": "UzH78eM1cTDu",
        "outputId": "a0910756-d87c-463d-d634-8a171c0bccba"
      },
      "outputs": [
        {
          "name": "stderr",
          "output_type": "stream",
          "text": [
            "Generating train split: 100%|██████████| 16000/16000 [00:00<00:00, 394781.25 examples/s]\n",
            "Generating validation split: 100%|██████████| 2000/2000 [00:00<00:00, 352877.67 examples/s]\n",
            "Generating test split: 100%|██████████| 2000/2000 [00:00<00:00, 336594.49 examples/s]\n"
          ]
        }
      ],
      "source": [
        "from datasets import load_dataset\n",
        "\n",
        "emotions = load_dataset(\"emotion\")"
      ]
    },
    {
      "cell_type": "code",
      "execution_count": 4,
      "metadata": {},
      "outputs": [
        {
          "data": {
            "text/plain": [
              "DatasetDict({\n",
              "    train: Dataset({\n",
              "        features: ['text', 'label'],\n",
              "        num_rows: 16000\n",
              "    })\n",
              "    validation: Dataset({\n",
              "        features: ['text', 'label'],\n",
              "        num_rows: 2000\n",
              "    })\n",
              "    test: Dataset({\n",
              "        features: ['text', 'label'],\n",
              "        num_rows: 2000\n",
              "    })\n",
              "})"
            ]
          },
          "execution_count": 4,
          "metadata": {},
          "output_type": "execute_result"
        }
      ],
      "source": [
        "emotions"
      ]
    },
    {
      "cell_type": "code",
      "execution_count": 5,
      "metadata": {},
      "outputs": [
        {
          "data": {
            "text/plain": [
              "Dataset({\n",
              "    features: ['text', 'label'],\n",
              "    num_rows: 16000\n",
              "})"
            ]
          },
          "execution_count": 5,
          "metadata": {},
          "output_type": "execute_result"
        }
      ],
      "source": [
        "train_ds = emotions[\"train\"]\n",
        "train_ds"
      ]
    },
    {
      "cell_type": "code",
      "execution_count": 6,
      "metadata": {},
      "outputs": [
        {
          "data": {
            "text/plain": [
              "16000"
            ]
          },
          "execution_count": 6,
          "metadata": {},
          "output_type": "execute_result"
        }
      ],
      "source": [
        "len(train_ds)"
      ]
    },
    {
      "cell_type": "code",
      "execution_count": 7,
      "metadata": {},
      "outputs": [
        {
          "data": {
            "text/plain": [
              "{'text': 'i didnt feel humiliated', 'label': 0}"
            ]
          },
          "execution_count": 7,
          "metadata": {},
          "output_type": "execute_result"
        }
      ],
      "source": [
        "train_ds[0]"
      ]
    },
    {
      "cell_type": "code",
      "execution_count": 8,
      "metadata": {},
      "outputs": [
        {
          "data": {
            "text/plain": [
              "['text', 'label']"
            ]
          },
          "execution_count": 8,
          "metadata": {},
          "output_type": "execute_result"
        }
      ],
      "source": [
        "train_ds.column_names"
      ]
    },
    {
      "cell_type": "code",
      "execution_count": 9,
      "metadata": {},
      "outputs": [
        {
          "name": "stdout",
          "output_type": "stream",
          "text": [
            "{'text': Value(dtype='string', id=None), 'label': ClassLabel(names=['sadness', 'joy', 'love', 'anger', 'fear', 'surprise'], id=None)}\n"
          ]
        }
      ],
      "source": [
        "print(train_ds.features)"
      ]
    },
    {
      "cell_type": "code",
      "execution_count": 10,
      "metadata": {},
      "outputs": [
        {
          "name": "stdout",
          "output_type": "stream",
          "text": [
            "{'text': ['i didnt feel humiliated', 'i can go from feeling so hopeless to so damned hopeful just from being around someone who cares and is awake', 'im grabbing a minute to post i feel greedy wrong', 'i am ever feeling nostalgic about the fireplace i will know that it is still on the property', 'i am feeling grouchy'], 'label': [0, 0, 3, 2, 3]}\n"
          ]
        }
      ],
      "source": [
        "print(train_ds[:5])"
      ]
    },
    {
      "cell_type": "code",
      "execution_count": 11,
      "metadata": {},
      "outputs": [
        {
          "name": "stdout",
          "output_type": "stream",
          "text": [
            "['i didnt feel humiliated', 'i can go from feeling so hopeless to so damned hopeful just from being around someone who cares and is awake', 'im grabbing a minute to post i feel greedy wrong', 'i am ever feeling nostalgic about the fireplace i will know that it is still on the property', 'i am feeling grouchy']\n"
          ]
        }
      ],
      "source": [
        "print(train_ds[\"text\"][:5])"
      ]
    },
    {
      "attachments": {
        "image.png": {
          "image/png": "[encoded data removed]"
        }
      },
      "cell_type": "markdown",
      "metadata": {},
      "source": [
        "![image.png](attachment:image.png)"
      ]
    },
    {
      "cell_type": "markdown",
      "metadata": {},
      "source": [
        "#### load url\n",
        "\n",
        "```\n",
        "dataset_url = \"https://www.dropbox.com/s/1pzkadrvffbqw6o/train.txt\"\n",
        "!wget {dataset_url}\n",
        "\n",
        "# peek at first row of train.txt\n",
        "!head -n 1 train.txt\n",
        "\n",
        "# load the file\n",
        "emotions_local = load_dataset(\"csv\", data_files=\"train.txt\", sep=\";\",\n",
        "                                names=[\"text\", \"label\"])\n",
        "\n",
        "# or mention URL itself\n",
        "dataset_url = \"https://www.dropbox.com/s/1pzkadrvffbqw6o/train.txt\"\n",
        "emotions_remote = load_dataset(\"csv\", data_files=dataset_url, sep=\";\",\n",
        "                                names=[\"text\", \"labels\"])\n",
        "```"
      ]
    },
    {
      "cell_type": "markdown",
      "metadata": {},
      "source": [
        "### From Datasets to DataFrames"
      ]
    },
    {
      "cell_type": "code",
      "execution_count": 12,
      "metadata": {},
      "outputs": [
        {
          "data": {
            "text/html": [
              "<div>\n",
              "<style scoped>\n",
              "    .dataframe tbody tr th:only-of-type {\n",
              "        vertical-align: middle;\n",
              "    }\n",
              "\n",
              "    .dataframe tbody tr th {\n",
              "        vertical-align: top;\n",
              "    }\n",
              "\n",
              "    .dataframe thead th {\n",
              "        text-align: right;\n",
              "    }\n",
              "</style>\n",
              "<table border=\"1\" class=\"dataframe\">\n",
              "  <thead>\n",
              "    <tr style=\"text-align: right;\">\n",
              "      <th></th>\n",
              "      <th>text</th>\n",
              "      <th>label</th>\n",
              "    </tr>\n",
              "  </thead>\n",
              "  <tbody>\n",
              "    <tr>\n",
              "      <th>0</th>\n",
              "      <td>i didnt feel humiliated</td>\n",
              "      <td>0</td>\n",
              "    </tr>\n",
              "    <tr>\n",
              "      <th>1</th>\n",
              "      <td>i can go from feeling so hopeless to so damned...</td>\n",
              "      <td>0</td>\n",
              "    </tr>\n",
              "    <tr>\n",
              "      <th>2</th>\n",
              "      <td>im grabbing a minute to post i feel greedy wrong</td>\n",
              "      <td>3</td>\n",
              "    </tr>\n",
              "    <tr>\n",
              "      <th>3</th>\n",
              "      <td>i am ever feeling nostalgic about the fireplac...</td>\n",
              "      <td>2</td>\n",
              "    </tr>\n",
              "    <tr>\n",
              "      <th>4</th>\n",
              "      <td>i am feeling grouchy</td>\n",
              "      <td>3</td>\n",
              "    </tr>\n",
              "  </tbody>\n",
              "</table>\n",
              "</div>"
            ],
            "text/plain": [
              "                                                text  label\n",
              "0                            i didnt feel humiliated      0\n",
              "1  i can go from feeling so hopeless to so damned...      0\n",
              "2   im grabbing a minute to post i feel greedy wrong      3\n",
              "3  i am ever feeling nostalgic about the fireplac...      2\n",
              "4                               i am feeling grouchy      3"
            ]
          },
          "execution_count": 12,
          "metadata": {},
          "output_type": "execute_result"
        }
      ],
      "source": [
        "import pandas as pd\n",
        "\n",
        "emotions.set_format(type=\"pandas\")\n",
        "df = emotions[\"train\"][:]\n",
        "df.head()"
      ]
    },
    {
      "cell_type": "markdown",
      "metadata": {},
      "source": [
        "labels are represented as integers, use the int2str() method of the label feature to create a new column in our DataFrame with the corresponding label names:"
      ]
    },
    {
      "cell_type": "code",
      "execution_count": 13,
      "metadata": {},
      "outputs": [
        {
          "data": {
            "text/html": [
              "<div>\n",
              "<style scoped>\n",
              "    .dataframe tbody tr th:only-of-type {\n",
              "        vertical-align: middle;\n",
              "    }\n",
              "\n",
              "    .dataframe tbody tr th {\n",
              "        vertical-align: top;\n",
              "    }\n",
              "\n",
              "    .dataframe thead th {\n",
              "        text-align: right;\n",
              "    }\n",
              "</style>\n",
              "<table border=\"1\" class=\"dataframe\">\n",
              "  <thead>\n",
              "    <tr style=\"text-align: right;\">\n",
              "      <th></th>\n",
              "      <th>text</th>\n",
              "      <th>label</th>\n",
              "      <th>label_name</th>\n",
              "    </tr>\n",
              "  </thead>\n",
              "  <tbody>\n",
              "    <tr>\n",
              "      <th>0</th>\n",
              "      <td>i didnt feel humiliated</td>\n",
              "      <td>0</td>\n",
              "      <td>sadness</td>\n",
              "    </tr>\n",
              "    <tr>\n",
              "      <th>1</th>\n",
              "      <td>i can go from feeling so hopeless to so damned...</td>\n",
              "      <td>0</td>\n",
              "      <td>sadness</td>\n",
              "    </tr>\n",
              "    <tr>\n",
              "      <th>2</th>\n",
              "      <td>im grabbing a minute to post i feel greedy wrong</td>\n",
              "      <td>3</td>\n",
              "      <td>anger</td>\n",
              "    </tr>\n",
              "    <tr>\n",
              "      <th>3</th>\n",
              "      <td>i am ever feeling nostalgic about the fireplac...</td>\n",
              "      <td>2</td>\n",
              "      <td>love</td>\n",
              "    </tr>\n",
              "    <tr>\n",
              "      <th>4</th>\n",
              "      <td>i am feeling grouchy</td>\n",
              "      <td>3</td>\n",
              "      <td>anger</td>\n",
              "    </tr>\n",
              "  </tbody>\n",
              "</table>\n",
              "</div>"
            ],
            "text/plain": [
              "                                                text  label label_name\n",
              "0                            i didnt feel humiliated      0    sadness\n",
              "1  i can go from feeling so hopeless to so damned...      0    sadness\n",
              "2   im grabbing a minute to post i feel greedy wrong      3      anger\n",
              "3  i am ever feeling nostalgic about the fireplac...      2       love\n",
              "4                               i am feeling grouchy      3      anger"
            ]
          },
          "execution_count": 13,
          "metadata": {},
          "output_type": "execute_result"
        }
      ],
      "source": [
        "def label_int2str(row):\n",
        "    return emotions[\"train\"].features[\"label\"].int2str(row)\n",
        "\n",
        "df[\"label_name\"] = df[\"label\"].apply(label_int2str)\n",
        "df.head()"
      ]
    },
    {
      "cell_type": "markdown",
      "metadata": {},
      "source": [
        "### Look at the Class Distribution"
      ]
    },
    {
      "cell_type": "code",
      "execution_count": 15,
      "metadata": {},
      "outputs": [
        {
          "data": {
            "image/png": "[encoded data removed]",
            "text/plain": [
              "<Figure size 640x480 with 1 Axes>"
            ]
          },
          "metadata": {},
          "output_type": "display_data"
        }
      ],
      "source": [
        "import matplotlib.pyplot as plt\n",
        "\n",
        "df[\"label_name\"].value_counts(ascending=True).plot.barh()\n",
        "plt.title(\"Frequency of Classes\")\n",
        "plt.show()"
      ]
    },
    {
      "cell_type": "markdown",
      "metadata": {},
      "source": [
        "In this case, we can see that the dataset is heavily imbalanced; the joy and sadness\n",
        "classes appear frequently, whereas love and surprise are about 5–10 times rarer.\n",
        "There are several ways to deal with imbalanced data, including:\n",
        "\n",
        "- Randomly oversample the minority class.\n",
        "- Randomly undersample the majority class.\n",
        "- Gather more labeled data from the underrepresented classes.\n",
        "\n",
        "- Imbalanced-learn library"
      ]
    },
    {
      "cell_type": "markdown",
      "metadata": {},
      "source": [
        "### How Long are your Tweets?"
      ]
    },
    {
      "cell_type": "code",
      "execution_count": 17,
      "metadata": {},
      "outputs": [
        {
          "data": {
            "image/png": "[encoded data removed]",
            "text/plain": [
              "<Figure size 640x480 with 1 Axes>"
            ]
          },
          "metadata": {},
          "output_type": "display_data"
        }
      ],
      "source": [
        "df['Words Per Tweet'] = df[\"text\"].str.split().apply(len)\n",
        "df.boxplot(\"Words Per Tweet\", by=\"label_name\", grid=False,\n",
        "            showfliers=False, color=\"black\")\n",
        "plt.suptitle(\" \")\n",
        "plt.xlabel(\" \")\n",
        "plt.show()"
      ]
    },
    {
      "cell_type": "markdown",
      "metadata": {},
      "source": [
        "From the plot we see that for each emotion, most tweets are around 15 words long\n",
        "and the longest tweets are well below DistilBERT’s maximum context size. Texts that\n",
        "are longer than a model’s context size need to be truncated, which can lead to a loss in\n",
        "performance if the truncated text contains crucial information; in this case, it looks\n",
        "like that won’t be an issue.\n",
        "\n",
        "Let’s now figure out how we can convert these raw texts into a format suitable for\n",
        "Transformers! While we’re at it, let’s also reset the output format of our dataset\n",
        "since we don’t need the DataFrame format anymore:"
      ]
    },
    {
      "cell_type": "code",
      "execution_count": 18,
      "metadata": {},
      "outputs": [],
      "source": [
        "emotions.reset_format()"
      ]
    },
    {
      "cell_type": "markdown",
      "metadata": {},
      "source": [
        "## From Text to Tokens"
      ]
    },
    {
      "cell_type": "markdown",
      "metadata": {},
      "source": [
        "### Character Tokenization"
      ]
    },
    {
      "cell_type": "code",
      "execution_count": 19,
      "metadata": {},
      "outputs": [
        {
          "name": "stdout",
          "output_type": "stream",
          "text": [
            "['T', 'o', 'k', 'e', 'n', 'i', 'z', 'i', 'n', 'g', ' ', 't', 'e', 'x', 't', ' ', 'i', 's', ' ', 'a', ' ', 'c', 'o', 'r', 'e', ' ', 't', 'a', 's', 'k', ' ', 'o', 'f', ' ', 'N', 'L', 'P']\n"
          ]
        }
      ],
      "source": [
        "text = \"Tokenizing text is a core task of NLP\"\n",
        "tokenized_text = list(text)\n",
        "print(tokenized_text)"
      ]
    },
    {
      "cell_type": "markdown",
      "metadata": {},
      "source": [
        "Our model expects each character to be converted to an integer, a process sometimes called numericalization. One simple way to do this is by encoding each unique token (which are characters in this case) with a unique integer:"
      ]
    },
    {
      "cell_type": "code",
      "execution_count": 20,
      "metadata": {},
      "outputs": [
        {
          "name": "stdout",
          "output_type": "stream",
          "text": [
            "{' ': 0, 'L': 1, 'N': 2, 'P': 3, 'T': 4, 'a': 5, 'c': 6, 'e': 7, 'f': 8, 'g': 9, 'i': 10, 'k': 11, 'n': 12, 'o': 13, 'r': 14, 's': 15, 't': 16, 'x': 17, 'z': 18}\n"
          ]
        }
      ],
      "source": [
        "token2idx = {ch: idx for idx, ch in enumerate(sorted(set(tokenized_text)))}\n",
        "print(token2idx)"
      ]
    },
    {
      "cell_type": "markdown",
      "metadata": {},
      "source": [
        "We can now use token2idx to transform the tokenized text to a list of integers:"
      ]
    },
    {
      "cell_type": "code",
      "execution_count": 21,
      "metadata": {},
      "outputs": [
        {
          "name": "stdout",
          "output_type": "stream",
          "text": [
            "[4, 13, 11, 7, 12, 10, 18, 10, 12, 9, 0, 16, 7, 17, 16, 0, 10, 15, 0, 5, 0, 6, 13, 14, 7, 0, 16, 5, 15, 11, 0, 13, 8, 0, 2, 1, 3]\n"
          ]
        }
      ],
      "source": [
        "input_ids = [token2idx[token] for token in tokenized_text]\n",
        "print(input_ids)"
      ]
    },
    {
      "cell_type": "markdown",
      "metadata": {},
      "source": [
        "last step is to convert input_ids to a 2D tensor of one-hot vectors"
      ]
    },
    {
      "cell_type": "code",
      "execution_count": 22,
      "metadata": {},
      "outputs": [
        {
          "data": {
            "text/html": [
              "<div>\n",
              "<style scoped>\n",
              "    .dataframe tbody tr th:only-of-type {\n",
              "        vertical-align: middle;\n",
              "    }\n",
              "\n",
              "    .dataframe tbody tr th {\n",
              "        vertical-align: top;\n",
              "    }\n",
              "\n",
              "    .dataframe thead th {\n",
              "        text-align: right;\n",
              "    }\n",
              "</style>\n",
              "<table border=\"1\" class=\"dataframe\">\n",
              "  <thead>\n",
              "    <tr style=\"text-align: right;\">\n",
              "      <th></th>\n",
              "      <th>Name</th>\n",
              "      <th>Label ID</th>\n",
              "    </tr>\n",
              "  </thead>\n",
              "  <tbody>\n",
              "    <tr>\n",
              "      <th>0</th>\n",
              "      <td>Bumblebee</td>\n",
              "      <td>0</td>\n",
              "    </tr>\n",
              "    <tr>\n",
              "      <th>1</th>\n",
              "      <td>Optimus Prime</td>\n",
              "      <td>1</td>\n",
              "    </tr>\n",
              "    <tr>\n",
              "      <th>2</th>\n",
              "      <td>Megatron</td>\n",
              "      <td>2</td>\n",
              "    </tr>\n",
              "  </tbody>\n",
              "</table>\n",
              "</div>"
            ],
            "text/plain": [
              "            Name  Label ID\n",
              "0      Bumblebee         0\n",
              "1  Optimus Prime         1\n",
              "2       Megatron         2"
            ]
          },
          "execution_count": 22,
          "metadata": {},
          "output_type": "execute_result"
        }
      ],
      "source": [
        "categorical_df = pd.DataFrame(\n",
        "    {\"Name\": [\"Bumblebee\", \"Optimus Prime\", \"Megatron\"], \"Label ID\": [0,1,2]})\n",
        "categorical_df"
      ]
    },
    {
      "cell_type": "markdown",
      "metadata": {},
      "source": [
        "We won't be using this, Not good for neural networks. In pandas, one-hot encoding can be implemented with get_dummies() function as follows:"
      ]
    },
    {
      "cell_type": "code",
      "execution_count": 25,
      "metadata": {},
      "outputs": [
        {
          "data": {
            "text/html": [
              "<div>\n",
              "<style scoped>\n",
              "    .dataframe tbody tr th:only-of-type {\n",
              "        vertical-align: middle;\n",
              "    }\n",
              "\n",
              "    .dataframe tbody tr th {\n",
              "        vertical-align: top;\n",
              "    }\n",
              "\n",
              "    .dataframe thead th {\n",
              "        text-align: right;\n",
              "    }\n",
              "</style>\n",
              "<table border=\"1\" class=\"dataframe\">\n",
              "  <thead>\n",
              "    <tr style=\"text-align: right;\">\n",
              "      <th></th>\n",
              "      <th>Bumblebee</th>\n",
              "      <th>Megatron</th>\n",
              "      <th>Optimus Prime</th>\n",
              "    </tr>\n",
              "  </thead>\n",
              "  <tbody>\n",
              "    <tr>\n",
              "      <th>0</th>\n",
              "      <td>True</td>\n",
              "      <td>False</td>\n",
              "      <td>False</td>\n",
              "    </tr>\n",
              "    <tr>\n",
              "      <th>1</th>\n",
              "      <td>False</td>\n",
              "      <td>False</td>\n",
              "      <td>True</td>\n",
              "    </tr>\n",
              "    <tr>\n",
              "      <th>2</th>\n",
              "      <td>False</td>\n",
              "      <td>True</td>\n",
              "      <td>False</td>\n",
              "    </tr>\n",
              "  </tbody>\n",
              "</table>\n",
              "</div>"
            ],
            "text/plain": [
              "   Bumblebee  Megatron  Optimus Prime\n",
              "0       True     False          False\n",
              "1      False     False           True\n",
              "2      False      True          False"
            ]
          },
          "execution_count": 25,
          "metadata": {},
          "output_type": "execute_result"
        }
      ],
      "source": [
        "pd.get_dummies(categorical_df[\"Name\"])"
      ]
    },
    {
      "cell_type": "markdown",
      "metadata": {},
      "source": [
        "We can create the one-hot encodings in PyTorch by converting input_ids to a tensor and applying the one_hot() function as follows:"
      ]
    },
    {
      "cell_type": "code",
      "execution_count": 27,
      "metadata": {},
      "outputs": [
        {
          "data": {
            "text/plain": [
              "torch.Size([37, 19])"
            ]
          },
          "execution_count": 27,
          "metadata": {},
          "output_type": "execute_result"
        }
      ],
      "source": [
        "import torch\n",
        "import torch.nn.functional as F\n",
        "\n",
        "input_ids = torch.tensor(input_ids)\n",
        "one_hot_encodings = F.one_hot(input_ids, num_classes=len(token2idx))\n",
        "one_hot_encodings.shape"
      ]
    },
    {
      "cell_type": "markdown",
      "metadata": {},
      "source": [
        "For each of the 38 input tokens we now have a one-hot vector with 20 dimensions,\n",
        "since our vocabulary consists of 20 unique characters.\n",
        "\n",
        "WARN: It’s important to always set num_classes in the one_hot() function\n",
        "because otherwise the one-hot vectors may end up being shorter\n",
        "than the length of the vocabulary (and need to be padded with\n",
        "zeros manually). In TensorFlow, the equivalent function is\n",
        "tf.one_hot(), where the depth argument plays the role of\n",
        "num_classes."
      ]
    },
    {
      "cell_type": "code",
      "execution_count": 28,
      "metadata": {},
      "outputs": [
        {
          "name": "stdout",
          "output_type": "stream",
          "text": [
            "Token: T\n",
            "Tensor index: 4\n",
            "One-hot: tensor([0, 0, 0, 0, 1, 0, 0, 0, 0, 0, 0, 0, 0, 0, 0, 0, 0, 0, 0])\n"
          ]
        }
      ],
      "source": [
        "# first vector\n",
        "print(f\"Token: {tokenized_text[0]}\")\n",
        "print(f\"Tensor index: {input_ids[0]}\")\n",
        "print(f\"One-hot: {one_hot_encodings[0]}\")"
      ]
    },
    {
      "cell_type": "markdown",
      "metadata": {},
      "source": [
        "From our simple example we can see that character-level tokenization ignores any\n",
        "structure in the text and treats the whole string as a stream of characters. Although\n",
        "this helps deal with misspellings and rare words, the main drawback is that linguistic\n",
        "structures such as words need to be learned from the data. This requires significant\n",
        "compute, memory, and data. For this reason, character tokenization is rarely used in\n",
        "practice. Instead, some structure of the text is preserved during the tokenization step.\n",
        "Word tokenization is a straightforward approach to achieve this, so let’s take a look at\n",
        "how it works."
      ]
    },
    {
      "cell_type": "markdown",
      "metadata": {},
      "source": [
        "### Word Tokenization"
      ]
    },
    {
      "cell_type": "code",
      "execution_count": 29,
      "metadata": {},
      "outputs": [
        {
          "name": "stdout",
          "output_type": "stream",
          "text": [
            "['Tokenizing', 'text', 'is', 'a', 'core', 'task', 'of', 'NLP']\n"
          ]
        }
      ],
      "source": [
        "tokenized_text = text.split()\n",
        "print(tokenized_text)"
      ]
    },
    {
      "cell_type": "markdown",
      "metadata": {},
      "source": [
        "NOTE: Some word tokenizers have extra rules for punctuation. One can also apply stemming or lemmatization, which normalizes words to their stem (e.g. \"great\", \"greater\", \"greatest\" all become \"great\"), at the expense of losing some information in the text.\n",
        "\n",
        "Having a large vocabulary is a problem because it requires neural networks to have an enormous number of parameters."
      ]
    },
    {
      "cell_type": "markdown",
      "metadata": {},
      "source": [
        "### Subword Tokenization"
      ]
    },
    {
      "cell_type": "markdown",
      "metadata": {},
      "source": [
        "The basic idea behind subword tokenization is to combine the best aspects of character\n",
        "and word tokenization. On the one hand, we want to split rare words into smaller\n",
        "units to allow the model to deal with complex words and misspellings. On the other\n",
        "hand, we want to keep frequent words as unique entities so that we can keep the\n",
        "length of our inputs to a manageable size. The main distinguishing feature of\n",
        "subword tokenization (as well as word tokenization) is that it is learned from the pretraining\n",
        "corpus using a mix of statistical rules and algorithms."
      ]
    },
    {
      "cell_type": "code",
      "execution_count": 30,
      "metadata": {},
      "outputs": [],
      "source": [
        "from transformers import AutoTokenizer\n",
        "\n",
        "model_ckpt = \"distilbert-base-uncased\"\n",
        "tokenizer = AutoTokenizer.from_pretrained(model_ckpt)"
      ]
    },
    {
      "cell_type": "markdown",
      "metadata": {},
      "source": [
        "The AutoTokenizer class belongs to a larger set of “auto” classes whose job is to automatically\n",
        "retrieve the model’s configuration, pretrained weights, or vocabulary from\n",
        "the name of the checkpoint. This allows you to quickly switch between models, but if\n",
        "you wish to load the specific class manually you can do so as well. For example, we\n",
        "could have loaded the DistilBERT tokenizer as follows:"
      ]
    },
    {
      "cell_type": "code",
      "execution_count": 31,
      "metadata": {},
      "outputs": [],
      "source": [
        "from transformers import DistilBertTokenizer\n",
        "\n",
        "distilbert_tokenizer = DistilBertTokenizer.from_pretrained(model_ckpt)"
      ]
    },
    {
      "cell_type": "markdown",
      "metadata": {},
      "source": [
        "lets see how tokenizer works:"
      ]
    },
    {
      "cell_type": "code",
      "execution_count": 32,
      "metadata": {},
      "outputs": [
        {
          "name": "stdout",
          "output_type": "stream",
          "text": [
            "{'input_ids': [101, 19204, 6026, 3793, 2003, 1037, 4563, 4708, 1997, 17953, 2361, 102], 'attention_mask': [1, 1, 1, 1, 1, 1, 1, 1, 1, 1, 1, 1]}\n"
          ]
        }
      ],
      "source": [
        "encoded_text = tokenizer(text)\n",
        "print(encoded_text)"
      ]
    },
    {
      "cell_type": "markdown",
      "metadata": {},
      "source": [
        "We can see that the words have been mapped to unique integers in the input_ids field. attention_mask will be discussed later. Now that we have the input_ids field, we can convert them back into tokens using tokenizer's convert_ids_to_tokens() method:"
      ]
    },
    {
      "cell_type": "code",
      "execution_count": 33,
      "metadata": {},
      "outputs": [
        {
          "name": "stdout",
          "output_type": "stream",
          "text": [
            "['[CLS]', 'token', '##izing', 'text', 'is', 'a', 'core', 'task', 'of', 'nl', '##p', '[SEP]']\n"
          ]
        }
      ],
      "source": [
        "tokens = tokenizer.convert_ids_to_tokens(encoded_text.input_ids)\n",
        "print(tokens)"
      ]
    },
    {
      "cell_type": "markdown",
      "metadata": {},
      "source": [
        "We can observe three things here. First, some special [CLS] and [SEP] tokens have\n",
        "been added to the start and end of the sequence. These tokens differ from model to\n",
        "model, but their main role is to indicate the start and end of a sequence. Second, the\n",
        "tokens have each been lowercased, which is a feature of this particular checkpoint.\n",
        "Finally, we can see that “tokenizing” and “NLP” have been split into two tokens,\n",
        "which makes sense since they are not common words. The ## prefix in ##izing and\n",
        "##p means that the preceding string is not whitespace; any token with this prefix\n",
        "should be merged with the previous token when you convert the tokens back to a\n",
        "string. \n",
        "\n",
        "The AutoTokenizer class has a convert_tokens_to_string() method for\n",
        "doing just that, so let’s apply it to our tokens:"
      ]
    },
    {
      "cell_type": "code",
      "execution_count": 34,
      "metadata": {},
      "outputs": [
        {
          "name": "stdout",
          "output_type": "stream",
          "text": [
            "[CLS] tokenizing text is a core task of nlp [SEP]\n"
          ]
        }
      ],
      "source": [
        "print(tokenizer.convert_tokens_to_string(tokens))"
      ]
    },
    {
      "cell_type": "markdown",
      "metadata": {},
      "source": [
        "AutoTokenizer has several attributes, we can inspect the vocabulary size:"
      ]
    },
    {
      "cell_type": "code",
      "execution_count": 35,
      "metadata": {},
      "outputs": [
        {
          "data": {
            "text/plain": [
              "30522"
            ]
          },
          "execution_count": 35,
          "metadata": {},
          "output_type": "execute_result"
        }
      ],
      "source": [
        "tokenizer.vocab_size"
      ]
    },
    {
      "cell_type": "markdown",
      "metadata": {},
      "source": [
        "and the corresponding model's maximum context size:"
      ]
    },
    {
      "cell_type": "code",
      "execution_count": 36,
      "metadata": {},
      "outputs": [
        {
          "data": {
            "text/plain": [
              "512"
            ]
          },
          "execution_count": 36,
          "metadata": {},
          "output_type": "execute_result"
        }
      ],
      "source": [
        "tokenizer.model_max_length"
      ]
    },
    {
      "cell_type": "markdown",
      "metadata": {},
      "source": [
        "another attribute - name of the fields that the model expects in its forward_pass"
      ]
    },
    {
      "cell_type": "code",
      "execution_count": 37,
      "metadata": {},
      "outputs": [
        {
          "data": {
            "text/plain": [
              "['input_ids', 'attention_mask']"
            ]
          },
          "execution_count": 37,
          "metadata": {},
          "output_type": "execute_result"
        }
      ],
      "source": [
        "tokenizer.model_input_names"
      ]
    },
    {
      "cell_type": "markdown",
      "metadata": {},
      "source": []
    }
  ],
  "metadata": {
    "colab": {
      "provenance": []
    },
    "kernelspec": {
      "display_name": "venv",
      "language": "python",
      "name": "python3"
    },
    "language_info": {
      "codemirror_mode": {
        "name": "ipython",
        "version": 3
      },
      "file_extension": ".py",
      "mimetype": "text/x-python",
      "name": "python",
      "nbconvert_exporter": "python",
      "pygments_lexer": "ipython3",
      "version": "3.12.9"
    }
  },
  "nbformat": 4,
  "nbformat_minor": 0
}
